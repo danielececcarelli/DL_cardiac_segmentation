{
  "nbformat": 4,
  "nbformat_minor": 0,
  "metadata": {
    "kernelspec": {
      "display_name": "Python 3",
      "language": "python",
      "name": "python3"
    },
    "language_info": {
      "codemirror_mode": {
        "name": "ipython",
        "version": 3
      },
      "file_extension": ".py",
      "mimetype": "text/x-python",
      "name": "python",
      "nbconvert_exporter": "python",
      "pygments_lexer": "ipython3",
      "version": "3.8.1"
    },
    "colab": {
      "name": "prova.ipynb",
      "provenance": [],
      "collapsed_sections": [],
      "include_colab_link": true
    },
    "accelerator": "GPU"
  },
  "cells": [
    {
      "cell_type": "markdown",
      "metadata": {
        "id": "view-in-github",
        "colab_type": "text"
      },
      "source": [
        "<a href=\"https://colab.research.google.com/github/danielececcarelli/DL_cardiac_segmentation/blob/main/acdc_data/train_acdc_with_google_colab.ipynb\" target=\"_parent\"><img src=\"https://colab.research.google.com/assets/colab-badge.svg\" alt=\"Open In Colab\"/></a>"
      ]
    },
    {
      "cell_type": "code",
      "metadata": {
        "id": "09mIg_sotc1v",
        "outputId": "b29d7857-b28c-4ec0-8645-2792b1b4aeab",
        "colab": {
          "base_uri": "https://localhost:8080/",
          "height": 489
        }
      },
      "source": [
        "pip install -U segmentation-models"
      ],
      "execution_count": null,
      "outputs": [
        {
          "output_type": "stream",
          "text": [
            "Collecting segmentation-models\n",
            "  Downloading https://files.pythonhosted.org/packages/da/b9/4a183518c21689a56b834eaaa45cad242d9ec09a4360b5b10139f23c63f4/segmentation_models-1.0.1-py3-none-any.whl\n",
            "Collecting efficientnet==1.0.0\n",
            "  Downloading https://files.pythonhosted.org/packages/97/82/f3ae07316f0461417dc54affab6e86ab188a5a22f33176d35271628b96e0/efficientnet-1.0.0-py3-none-any.whl\n",
            "Collecting keras-applications<=1.0.8,>=1.0.7\n",
            "\u001b[?25l  Downloading https://files.pythonhosted.org/packages/71/e3/19762fdfc62877ae9102edf6342d71b28fbfd9dea3d2f96a882ce099b03f/Keras_Applications-1.0.8-py3-none-any.whl (50kB)\n",
            "\u001b[K     |████████████████████████████████| 51kB 6.2MB/s \n",
            "\u001b[?25hCollecting image-classifiers==1.0.0\n",
            "  Downloading https://files.pythonhosted.org/packages/81/98/6f84720e299a4942ab80df5f76ab97b7828b24d1de5e9b2cbbe6073228b7/image_classifiers-1.0.0-py3-none-any.whl\n",
            "Requirement already satisfied, skipping upgrade: scikit-image in /usr/local/lib/python3.6/dist-packages (from efficientnet==1.0.0->segmentation-models) (0.16.2)\n",
            "Requirement already satisfied, skipping upgrade: numpy>=1.9.1 in /usr/local/lib/python3.6/dist-packages (from keras-applications<=1.0.8,>=1.0.7->segmentation-models) (1.18.5)\n",
            "Requirement already satisfied, skipping upgrade: h5py in /usr/local/lib/python3.6/dist-packages (from keras-applications<=1.0.8,>=1.0.7->segmentation-models) (2.10.0)\n",
            "Requirement already satisfied, skipping upgrade: matplotlib!=3.0.0,>=2.0.0 in /usr/local/lib/python3.6/dist-packages (from scikit-image->efficientnet==1.0.0->segmentation-models) (3.2.2)\n",
            "Requirement already satisfied, skipping upgrade: pillow>=4.3.0 in /usr/local/lib/python3.6/dist-packages (from scikit-image->efficientnet==1.0.0->segmentation-models) (7.0.0)\n",
            "Requirement already satisfied, skipping upgrade: imageio>=2.3.0 in /usr/local/lib/python3.6/dist-packages (from scikit-image->efficientnet==1.0.0->segmentation-models) (2.4.1)\n",
            "Requirement already satisfied, skipping upgrade: networkx>=2.0 in /usr/local/lib/python3.6/dist-packages (from scikit-image->efficientnet==1.0.0->segmentation-models) (2.5)\n",
            "Requirement already satisfied, skipping upgrade: PyWavelets>=0.4.0 in /usr/local/lib/python3.6/dist-packages (from scikit-image->efficientnet==1.0.0->segmentation-models) (1.1.1)\n",
            "Requirement already satisfied, skipping upgrade: scipy>=0.19.0 in /usr/local/lib/python3.6/dist-packages (from scikit-image->efficientnet==1.0.0->segmentation-models) (1.4.1)\n",
            "Requirement already satisfied, skipping upgrade: six in /usr/local/lib/python3.6/dist-packages (from h5py->keras-applications<=1.0.8,>=1.0.7->segmentation-models) (1.15.0)\n",
            "Requirement already satisfied, skipping upgrade: pyparsing!=2.0.4,!=2.1.2,!=2.1.6,>=2.0.1 in /usr/local/lib/python3.6/dist-packages (from matplotlib!=3.0.0,>=2.0.0->scikit-image->efficientnet==1.0.0->segmentation-models) (2.4.7)\n",
            "Requirement already satisfied, skipping upgrade: cycler>=0.10 in /usr/local/lib/python3.6/dist-packages (from matplotlib!=3.0.0,>=2.0.0->scikit-image->efficientnet==1.0.0->segmentation-models) (0.10.0)\n",
            "Requirement already satisfied, skipping upgrade: kiwisolver>=1.0.1 in /usr/local/lib/python3.6/dist-packages (from matplotlib!=3.0.0,>=2.0.0->scikit-image->efficientnet==1.0.0->segmentation-models) (1.2.0)\n",
            "Requirement already satisfied, skipping upgrade: python-dateutil>=2.1 in /usr/local/lib/python3.6/dist-packages (from matplotlib!=3.0.0,>=2.0.0->scikit-image->efficientnet==1.0.0->segmentation-models) (2.8.1)\n",
            "Requirement already satisfied, skipping upgrade: decorator>=4.3.0 in /usr/local/lib/python3.6/dist-packages (from networkx>=2.0->scikit-image->efficientnet==1.0.0->segmentation-models) (4.4.2)\n",
            "Installing collected packages: keras-applications, efficientnet, image-classifiers, segmentation-models\n",
            "Successfully installed efficientnet-1.0.0 image-classifiers-1.0.0 keras-applications-1.0.8 segmentation-models-1.0.1\n"
          ],
          "name": "stdout"
        }
      ]
    },
    {
      "cell_type": "code",
      "metadata": {
        "id": "N0xD607HuUm4",
        "outputId": "2a8528c2-eeb5-4c59-baa1-2a9d3381b6ab",
        "colab": {
          "base_uri": "https://localhost:8080/",
          "height": 34
        }
      },
      "source": [
        "%env SM_FRAMEWORK=tf.keras"
      ],
      "execution_count": null,
      "outputs": [
        {
          "output_type": "stream",
          "text": [
            "env: SM_FRAMEWORK=tf.keras\n"
          ],
          "name": "stdout"
        }
      ]
    },
    {
      "cell_type": "code",
      "metadata": {
        "id": "d2wbT5FbzuN5",
        "outputId": "f82bddb5-5b98-4326-8e69-afbd4389dc36",
        "colab": {
          "base_uri": "https://localhost:8080/",
          "height": 34
        }
      },
      "source": [
        "from google.colab import drive\n",
        "drive.mount('/content/drive')"
      ],
      "execution_count": null,
      "outputs": [
        {
          "output_type": "stream",
          "text": [
            "Mounted at /content/drive\n"
          ],
          "name": "stdout"
        }
      ]
    },
    {
      "cell_type": "code",
      "metadata": {
        "id": "BxF1SSV20ZHj",
        "outputId": "69d669f0-588e-45aa-9aad-c132dea40173",
        "colab": {
          "base_uri": "https://localhost:8080/",
          "height": 173
        }
      },
      "source": [
        "ls \"/content/drive/My Drive/\""
      ],
      "execution_count": null,
      "outputs": [
        {
          "output_type": "stream",
          "text": [
            " 09022019-DSC_0016.jpg    RLbook2018.pdf\n",
            " 09022019-DSC_0025.jpg    x_2d_test.npy\n",
            " 09022019-DSC_0037.jpg    x_2d_train.npy\n",
            " 09022019-DSC_0040.jpg    x_2d_val.npy\n",
            "\u001b[0m\u001b[01;34m'Colab Notebooks'\u001b[0m/        y_2d_test.npy\n",
            " foo.txt                  y_2d_train.npy\n",
            "'PACS+Tesi Manzoni.zip'   y_2d_val.npy\n",
            " PACS.zip                'Zerocalcare - Kobane Calling.pdf'\n",
            " \u001b[01;34mrisultati50epochs\u001b[0m/\n"
          ],
          "name": "stdout"
        }
      ]
    },
    {
      "cell_type": "code",
      "metadata": {
        "id": "Y9sB4xFDtUEI",
        "outputId": "8ed46c44-0263-43c6-d70e-753f3a70251a",
        "colab": {
          "base_uri": "https://localhost:8080/",
          "height": 34
        }
      },
      "source": [
        "import os\n",
        "import tensorflow as tf\n",
        "import matplotlib.pyplot as plt\n",
        "import segmentation_models as sm\n",
        "import numpy as np\n",
        "\n",
        "path = \"/content/drive/My Drive/\"\n",
        "\n",
        "x_train = np.load(path+\"x_2d_train.npy\")\n",
        "y_train = np.load(path+\"y_2d_train.npy\")\n",
        "\n",
        "x_val = np.load(path+\"x_2d_val.npy\")\n",
        "y_val = np.load(path+\"y_2d_val.npy\")\n",
        "\n",
        "x_test = np.load(path+\"x_2d_test.npy\")\n",
        "y_test = np.load(path+\"y_2d_test.npy\")"
      ],
      "execution_count": null,
      "outputs": [
        {
          "output_type": "stream",
          "text": [
            "Segmentation Models: using `tf.keras` framework.\n"
          ],
          "name": "stdout"
        }
      ]
    },
    {
      "cell_type": "code",
      "metadata": {
        "id": "GydkcJbTtUEp"
      },
      "source": [
        "### standardization of train\n",
        "for i in range(x_train.shape[0]):\n",
        "    x_train[i,:,:,0] = x_train[i,:,:,0]/(np.max(x_train[i,:,:,0]))\n",
        "    \n",
        "### standardization of val\n",
        "for i in range(x_val.shape[0]):\n",
        "    x_val[i,:,:,0] = x_val[i,:,:,0]/(np.max(x_val[i,:,:,0]))\n",
        "    \n",
        "### standardization of test\n",
        "for i in range(x_test.shape[0]):\n",
        "    x_test[i,:,:,0] = x_test[i,:,:,0]/(np.max(x_test[i,:,:,0]))"
      ],
      "execution_count": null,
      "outputs": []
    },
    {
      "cell_type": "code",
      "metadata": {
        "id": "JlJgS6tl8FBx"
      },
      "source": [
        "dim1,dim2,dim3,_ = y_train.shape\n",
        "y_train_new = np.zeros(shape = (dim1,dim2,dim3,4))\n",
        "\n",
        "\n",
        "for i in range(y_train.shape[0]):\n",
        "    y_train_new[i,:,:,0] = (y_train[i,:,:,0]==1)\n",
        "    y_train_new[i,:,:,1] = (y_train[i,:,:,0]==2)\n",
        "    y_train_new[i,:,:,2] = (y_train[i,:,:,0]==3)\n",
        "    y_train_new[i,:,:,3] = (y_train[i,:,:,0]==0)\n",
        "\n",
        "\n",
        "dim1,dim2,dim3,_ = y_val.shape\n",
        "y_val_new = np.zeros(shape = (dim1,dim2,dim3,4))\n",
        "\n",
        "\n",
        "for i in range(y_val.shape[0]):\n",
        "    y_val_new[i,:,:,0] = (y_val[i,:,:,0]==1)\n",
        "    y_val_new[i,:,:,1] = (y_val[i,:,:,0]==2)\n",
        "    y_val_new[i,:,:,2] = (y_val[i,:,:,0]==3)\n",
        "    y_val_new[i,:,:,3] = (y_val[i,:,:,0]==0)\n",
        "\n",
        "\n",
        "\n",
        "dim1,dim2,dim3,_ = y_test.shape\n",
        "y_test_new = np.zeros(shape = (dim1,dim2,dim3,4))\n",
        "\n",
        "for i in range(y_test.shape[0]):\n",
        "    y_test_new[i,:,:,0] = (y_test[i,:,:,0]==1)\n",
        "    y_test_new[i,:,:,1] = (y_test[i,:,:,0]==2)\n",
        "    y_test_new[i,:,:,2] = (y_test[i,:,:,0]==3)\n",
        "    y_test_new[i,:,:,3] = (y_test[i,:,:,0]==0)\n",
        "\n",
        "\n",
        "y_train = y_train_new\n",
        "y_val = y_val_new\n",
        "y_test = y_test_new"
      ],
      "execution_count": null,
      "outputs": []
    },
    {
      "cell_type": "code",
      "metadata": {
        "id": "sl3cNYnl_inJ"
      },
      "source": [
        ""
      ],
      "execution_count": null,
      "outputs": []
    },
    {
      "cell_type": "code",
      "metadata": {
        "id": "I1NzYZLVIfaL"
      },
      "source": [
        "from segmentation_models.losses import dice_loss\n",
        "from segmentation_models.metrics import iou_score\n",
        "\n",
        "from keras.layers import Input, Conv2D\n",
        "from keras.models import Model\n",
        "from keras.optimizers import Adam"
      ],
      "execution_count": null,
      "outputs": []
    },
    {
      "cell_type": "code",
      "metadata": {
        "id": "rDshCH7FH82Q"
      },
      "source": [
        "bb = \"vgg16\"\n",
        "input_shape = (256,256,3)\n",
        "c = 4 ### multiclass classification\n",
        "enc_weights = \"imagenet\"\n",
        "activation = \"softmax\"\n",
        "base_model = sm.Unet(backbone_name = bb, input_shape = input_shape, classes = c, activation=activation, encoder_weights = enc_weights)\n",
        "\n",
        "# define number of channels\n",
        "N = x_train.shape[-1] # = 1,\n",
        "inp = Input(shape=(None, None, N))\n",
        "l1 = Conv2D(3, (1, 1))(inp) # map N channels data to 3 channels\n",
        "out = base_model(l1)\n",
        "\n",
        "modelUnet = Model(inp, out, name=base_model.name)\n",
        "\n",
        "lr = 0.0001\n",
        "optim = Adam(lr)\n",
        "\n",
        "dice_loss = sm.losses.DiceLoss(class_weights=np.array([1, 1, 1, 0.5])) \n",
        "focal_loss = sm.losses.CategoricalFocalLoss()\n",
        "total_loss = dice_loss + (1 * focal_loss)\n",
        "\n",
        "metrics = [sm.metrics.IOUScore(threshold=0.5), sm.metrics.FScore(threshold=0.5)]\n",
        "\n",
        "modelUnet.compile(optim, total_loss, metrics)"
      ],
      "execution_count": null,
      "outputs": []
    },
    {
      "cell_type": "code",
      "metadata": {
        "id": "e0s4Tc4uH9Du",
        "outputId": "00e1ec92-6fe7-4e11-d48c-8cfdd4800dee",
        "colab": {
          "base_uri": "https://localhost:8080/",
          "height": 1000
        }
      },
      "source": [
        "path = \"/content/drive/My Drive/\"\n",
        "\n",
        "ep = 100 #100\n",
        "\n",
        "# fit model using Google COLAB to have access to GPU-computing!\n",
        "history = modelUnet.fit(\n",
        "    x=x_train,\n",
        "    y=y_train,\n",
        "    batch_size=8,\n",
        "    epochs=ep,\n",
        "    validation_data=(x_val, y_val))\n",
        "\n",
        "name = path + \"risultati100epochs/modelUnet_\" + str(ep) + \"epochs.keras\"\n",
        "modelUnet.save(name)"
      ],
      "execution_count": null,
      "outputs": [
        {
          "output_type": "stream",
          "text": [
            "Epoch 1/100\n",
            "  2/150 [..............................] - ETA: 20s - loss: 1.0328 - iou_score: 0.0087 - f1-score: 0.0171WARNING:tensorflow:Callbacks method `on_train_batch_end` is slow compared to the batch time (batch time: 0.0195s vs `on_train_batch_end` time: 0.1208s). Check your callbacks.\n",
            "150/150 [==============================] - ETA: 0s - loss: 0.9134 - iou_score: 0.2549 - f1-score: 0.3516WARNING:tensorflow:Callbacks method `on_test_batch_end` is slow compared to the batch time (batch time: 0.0055s vs `on_test_batch_end` time: 0.0410s). Check your callbacks.\n",
            "150/150 [==============================] - 23s 156ms/step - loss: 0.9134 - iou_score: 0.2549 - f1-score: 0.3516 - val_loss: 0.8627 - val_iou_score: 0.3754 - val_f1-score: 0.5221\n",
            "Epoch 2/100\n",
            "150/150 [==============================] - 22s 149ms/step - loss: 0.7012 - iou_score: 0.5512 - f1-score: 0.6684 - val_loss: 0.7557 - val_iou_score: 0.5313 - val_f1-score: 0.6510\n",
            "Epoch 3/100\n",
            "150/150 [==============================] - 22s 150ms/step - loss: 0.5086 - iou_score: 0.6659 - f1-score: 0.7751 - val_loss: 0.5738 - val_iou_score: 0.6255 - val_f1-score: 0.7429\n",
            "Epoch 4/100\n",
            "150/150 [==============================] - 22s 150ms/step - loss: 0.3744 - iou_score: 0.7163 - f1-score: 0.8201 - val_loss: 0.4435 - val_iou_score: 0.6305 - val_f1-score: 0.7477\n",
            "Epoch 5/100\n",
            "150/150 [==============================] - 22s 150ms/step - loss: 0.3237 - iou_score: 0.7298 - f1-score: 0.8307 - val_loss: 0.3875 - val_iou_score: 0.6501 - val_f1-score: 0.7628\n",
            "Epoch 6/100\n",
            "150/150 [==============================] - 22s 150ms/step - loss: 0.3024 - iou_score: 0.7435 - f1-score: 0.8410 - val_loss: 0.4144 - val_iou_score: 0.6133 - val_f1-score: 0.7306\n",
            "Epoch 7/100\n",
            "150/150 [==============================] - 22s 149ms/step - loss: 0.2937 - iou_score: 0.7494 - f1-score: 0.8450 - val_loss: 0.3834 - val_iou_score: 0.6404 - val_f1-score: 0.7553\n",
            "Epoch 8/100\n",
            "150/150 [==============================] - 22s 150ms/step - loss: 0.2845 - iou_score: 0.7574 - f1-score: 0.8517 - val_loss: 0.3778 - val_iou_score: 0.6439 - val_f1-score: 0.7585\n",
            "Epoch 9/100\n",
            "150/150 [==============================] - 23s 150ms/step - loss: 0.2714 - iou_score: 0.7727 - f1-score: 0.8630 - val_loss: 0.3841 - val_iou_score: 0.6375 - val_f1-score: 0.7515\n",
            "Epoch 10/100\n",
            "150/150 [==============================] - 22s 150ms/step - loss: 0.2635 - iou_score: 0.7826 - f1-score: 0.8699 - val_loss: 0.3945 - val_iou_score: 0.6199 - val_f1-score: 0.7401\n",
            "Epoch 11/100\n",
            "150/150 [==============================] - 23s 150ms/step - loss: 0.2557 - iou_score: 0.7929 - f1-score: 0.8766 - val_loss: 0.3947 - val_iou_score: 0.6191 - val_f1-score: 0.7394\n",
            "Epoch 12/100\n",
            "150/150 [==============================] - 22s 150ms/step - loss: 0.2472 - iou_score: 0.8042 - f1-score: 0.8846 - val_loss: 0.4446 - val_iou_score: 0.5748 - val_f1-score: 0.6888\n",
            "Epoch 13/100\n",
            "150/150 [==============================] - 22s 150ms/step - loss: 0.2410 - iou_score: 0.8117 - f1-score: 0.8903 - val_loss: 0.3743 - val_iou_score: 0.6433 - val_f1-score: 0.7589\n",
            "Epoch 14/100\n",
            "150/150 [==============================] - 22s 150ms/step - loss: 0.2309 - iou_score: 0.8263 - f1-score: 0.8998 - val_loss: 0.3891 - val_iou_score: 0.6228 - val_f1-score: 0.7440\n",
            "Epoch 15/100\n",
            "150/150 [==============================] - 22s 150ms/step - loss: 0.2333 - iou_score: 0.8222 - f1-score: 0.8970 - val_loss: 0.3901 - val_iou_score: 0.6237 - val_f1-score: 0.7430\n",
            "Epoch 16/100\n",
            "150/150 [==============================] - 22s 150ms/step - loss: 0.2213 - iou_score: 0.8397 - f1-score: 0.9086 - val_loss: 0.4365 - val_iou_score: 0.5731 - val_f1-score: 0.6965\n",
            "Epoch 17/100\n",
            "150/150 [==============================] - 22s 150ms/step - loss: 0.2153 - iou_score: 0.8484 - f1-score: 0.9143 - val_loss: 0.3813 - val_iou_score: 0.6328 - val_f1-score: 0.7508\n",
            "Epoch 18/100\n",
            "150/150 [==============================] - 22s 150ms/step - loss: 0.2093 - iou_score: 0.8574 - f1-score: 0.9200 - val_loss: 0.3851 - val_iou_score: 0.6315 - val_f1-score: 0.7474\n",
            "Epoch 19/100\n",
            "150/150 [==============================] - 23s 150ms/step - loss: 0.2030 - iou_score: 0.8671 - f1-score: 0.9260 - val_loss: 0.3914 - val_iou_score: 0.6217 - val_f1-score: 0.7412\n",
            "Epoch 20/100\n",
            "150/150 [==============================] - 22s 150ms/step - loss: 0.2048 - iou_score: 0.8642 - f1-score: 0.9241 - val_loss: 0.3983 - val_iou_score: 0.6134 - val_f1-score: 0.7348\n",
            "Epoch 21/100\n",
            "150/150 [==============================] - 22s 150ms/step - loss: 0.2011 - iou_score: 0.8695 - f1-score: 0.9275 - val_loss: 0.3903 - val_iou_score: 0.6239 - val_f1-score: 0.7424\n",
            "Epoch 22/100\n",
            "150/150 [==============================] - 22s 150ms/step - loss: 0.1944 - iou_score: 0.8801 - f1-score: 0.9339 - val_loss: 0.3914 - val_iou_score: 0.6214 - val_f1-score: 0.7414\n",
            "Epoch 23/100\n",
            "150/150 [==============================] - 22s 150ms/step - loss: 0.1932 - iou_score: 0.8821 - f1-score: 0.9351 - val_loss: 0.3889 - val_iou_score: 0.6249 - val_f1-score: 0.7441\n",
            "Epoch 24/100\n",
            "150/150 [==============================] - 22s 150ms/step - loss: 0.1872 - iou_score: 0.8917 - f1-score: 0.9409 - val_loss: 0.3797 - val_iou_score: 0.6362 - val_f1-score: 0.7529\n",
            "Epoch 25/100\n",
            "150/150 [==============================] - 22s 150ms/step - loss: 0.1859 - iou_score: 0.8938 - f1-score: 0.9422 - val_loss: 0.3843 - val_iou_score: 0.6305 - val_f1-score: 0.7482\n",
            "Epoch 26/100\n",
            "150/150 [==============================] - 22s 150ms/step - loss: 0.1825 - iou_score: 0.8991 - f1-score: 0.9454 - val_loss: 0.3938 - val_iou_score: 0.6194 - val_f1-score: 0.7394\n",
            "Epoch 27/100\n",
            "150/150 [==============================] - 22s 150ms/step - loss: 0.1795 - iou_score: 0.9041 - f1-score: 0.9483 - val_loss: 0.3852 - val_iou_score: 0.6294 - val_f1-score: 0.7476\n",
            "Epoch 28/100\n",
            "150/150 [==============================] - 22s 150ms/step - loss: 0.1769 - iou_score: 0.9082 - f1-score: 0.9506 - val_loss: 0.3902 - val_iou_score: 0.6248 - val_f1-score: 0.7428\n",
            "Epoch 29/100\n",
            "150/150 [==============================] - 22s 150ms/step - loss: 0.1767 - iou_score: 0.9085 - f1-score: 0.9508 - val_loss: 0.3887 - val_iou_score: 0.6254 - val_f1-score: 0.7442\n",
            "Epoch 30/100\n",
            "150/150 [==============================] - 22s 150ms/step - loss: 0.1762 - iou_score: 0.9093 - f1-score: 0.9513 - val_loss: 0.3823 - val_iou_score: 0.6329 - val_f1-score: 0.7508\n",
            "Epoch 31/100\n",
            "150/150 [==============================] - 22s 150ms/step - loss: 0.1754 - iou_score: 0.9107 - f1-score: 0.9521 - val_loss: 0.3903 - val_iou_score: 0.6227 - val_f1-score: 0.7425\n",
            "Epoch 32/100\n",
            "150/150 [==============================] - 23s 150ms/step - loss: 0.1745 - iou_score: 0.9120 - f1-score: 0.9529 - val_loss: 0.3841 - val_iou_score: 0.6312 - val_f1-score: 0.7489\n",
            "Epoch 33/100\n",
            "150/150 [==============================] - 23s 150ms/step - loss: 0.1716 - iou_score: 0.9170 - f1-score: 0.9557 - val_loss: 0.3913 - val_iou_score: 0.6224 - val_f1-score: 0.7421\n",
            "Epoch 34/100\n",
            "150/150 [==============================] - 23s 150ms/step - loss: 0.1688 - iou_score: 0.9217 - f1-score: 0.9584 - val_loss: 0.3862 - val_iou_score: 0.6278 - val_f1-score: 0.7471\n",
            "Epoch 35/100\n",
            "150/150 [==============================] - 22s 150ms/step - loss: 0.1678 - iou_score: 0.9235 - f1-score: 0.9594 - val_loss: 0.3891 - val_iou_score: 0.6255 - val_f1-score: 0.7445\n",
            "Epoch 36/100\n",
            "150/150 [==============================] - 22s 150ms/step - loss: 0.1685 - iou_score: 0.9221 - f1-score: 0.9586 - val_loss: 0.3819 - val_iou_score: 0.6341 - val_f1-score: 0.7516\n",
            "Epoch 37/100\n",
            "150/150 [==============================] - 22s 150ms/step - loss: 0.1673 - iou_score: 0.9242 - f1-score: 0.9598 - val_loss: 0.3899 - val_iou_score: 0.6249 - val_f1-score: 0.7435\n",
            "Epoch 38/100\n",
            "150/150 [==============================] - 22s 150ms/step - loss: 0.1674 - iou_score: 0.9240 - f1-score: 0.9596 - val_loss: 0.3886 - val_iou_score: 0.6264 - val_f1-score: 0.7450\n",
            "Epoch 39/100\n",
            "150/150 [==============================] - 23s 150ms/step - loss: 0.1651 - iou_score: 0.9277 - f1-score: 0.9618 - val_loss: 0.3866 - val_iou_score: 0.6293 - val_f1-score: 0.7471\n",
            "Epoch 40/100\n",
            "150/150 [==============================] - 23s 150ms/step - loss: 0.1647 - iou_score: 0.9285 - f1-score: 0.9622 - val_loss: 0.3907 - val_iou_score: 0.6241 - val_f1-score: 0.7429\n",
            "Epoch 41/100\n",
            "150/150 [==============================] - 22s 150ms/step - loss: 0.1643 - iou_score: 0.9291 - f1-score: 0.9625 - val_loss: 0.3895 - val_iou_score: 0.6260 - val_f1-score: 0.7442\n",
            "Epoch 42/100\n",
            "150/150 [==============================] - 22s 150ms/step - loss: 0.1636 - iou_score: 0.9303 - f1-score: 0.9632 - val_loss: 0.3827 - val_iou_score: 0.6331 - val_f1-score: 0.7506\n",
            "Epoch 43/100\n",
            "150/150 [==============================] - 22s 150ms/step - loss: 0.1625 - iou_score: 0.9321 - f1-score: 0.9642 - val_loss: 0.3819 - val_iou_score: 0.6360 - val_f1-score: 0.7520\n",
            "Epoch 44/100\n",
            "150/150 [==============================] - 22s 150ms/step - loss: 0.1617 - iou_score: 0.9336 - f1-score: 0.9650 - val_loss: 0.3819 - val_iou_score: 0.6350 - val_f1-score: 0.7518\n",
            "Epoch 45/100\n",
            "150/150 [==============================] - 22s 150ms/step - loss: 0.1615 - iou_score: 0.9338 - f1-score: 0.9651 - val_loss: 0.3835 - val_iou_score: 0.6324 - val_f1-score: 0.7502\n",
            "Epoch 46/100\n",
            "150/150 [==============================] - 22s 150ms/step - loss: 0.1606 - iou_score: 0.9353 - f1-score: 0.9660 - val_loss: 0.3893 - val_iou_score: 0.6257 - val_f1-score: 0.7445\n",
            "Epoch 47/100\n",
            "150/150 [==============================] - 23s 150ms/step - loss: 0.1599 - iou_score: 0.9368 - f1-score: 0.9668 - val_loss: 0.3928 - val_iou_score: 0.6214 - val_f1-score: 0.7411\n",
            "Epoch 48/100\n",
            "150/150 [==============================] - 23s 150ms/step - loss: 0.1586 - iou_score: 0.9389 - f1-score: 0.9680 - val_loss: 0.3885 - val_iou_score: 0.6266 - val_f1-score: 0.7455\n",
            "Epoch 49/100\n",
            "150/150 [==============================] - 23s 150ms/step - loss: 0.1574 - iou_score: 0.9409 - f1-score: 0.9691 - val_loss: 0.3873 - val_iou_score: 0.6289 - val_f1-score: 0.7467\n",
            "Epoch 50/100\n",
            "150/150 [==============================] - 23s 150ms/step - loss: 0.1563 - iou_score: 0.9429 - f1-score: 0.9702 - val_loss: 0.3849 - val_iou_score: 0.6320 - val_f1-score: 0.7492\n",
            "Epoch 51/100\n",
            "150/150 [==============================] - 23s 150ms/step - loss: 0.1563 - iou_score: 0.9430 - f1-score: 0.9702 - val_loss: 0.3936 - val_iou_score: 0.6224 - val_f1-score: 0.7405\n",
            "Epoch 52/100\n",
            "150/150 [==============================] - 23s 150ms/step - loss: 0.1569 - iou_score: 0.9419 - f1-score: 0.9696 - val_loss: 0.3825 - val_iou_score: 0.6341 - val_f1-score: 0.7515\n",
            "Epoch 53/100\n",
            "150/150 [==============================] - 22s 150ms/step - loss: 0.1578 - iou_score: 0.9402 - f1-score: 0.9687 - val_loss: 0.3861 - val_iou_score: 0.6291 - val_f1-score: 0.7479\n",
            "Epoch 54/100\n",
            "150/150 [==============================] - 23s 150ms/step - loss: 0.1562 - iou_score: 0.9430 - f1-score: 0.9702 - val_loss: 0.3878 - val_iou_score: 0.6281 - val_f1-score: 0.7464\n",
            "Epoch 55/100\n",
            "150/150 [==============================] - 23s 151ms/step - loss: 0.1553 - iou_score: 0.9445 - f1-score: 0.9710 - val_loss: 0.3915 - val_iou_score: 0.6241 - val_f1-score: 0.7428\n",
            "Epoch 56/100\n",
            "150/150 [==============================] - 23s 151ms/step - loss: 0.1548 - iou_score: 0.9456 - f1-score: 0.9716 - val_loss: 0.3803 - val_iou_score: 0.6374 - val_f1-score: 0.7538\n",
            "Epoch 57/100\n",
            "150/150 [==============================] - 23s 151ms/step - loss: 0.1547 - iou_score: 0.9458 - f1-score: 0.9717 - val_loss: 0.3783 - val_iou_score: 0.6396 - val_f1-score: 0.7558\n",
            "Epoch 58/100\n",
            "150/150 [==============================] - 23s 150ms/step - loss: 0.1538 - iou_score: 0.9473 - f1-score: 0.9726 - val_loss: 0.3870 - val_iou_score: 0.6294 - val_f1-score: 0.7474\n",
            "Epoch 59/100\n",
            "150/150 [==============================] - 23s 150ms/step - loss: 0.1539 - iou_score: 0.9470 - f1-score: 0.9724 - val_loss: 0.3861 - val_iou_score: 0.6314 - val_f1-score: 0.7481\n",
            "Epoch 60/100\n",
            "150/150 [==============================] - 22s 150ms/step - loss: 0.1538 - iou_score: 0.9472 - f1-score: 0.9725 - val_loss: 0.3856 - val_iou_score: 0.6324 - val_f1-score: 0.7488\n",
            "Epoch 61/100\n",
            "150/150 [==============================] - 23s 150ms/step - loss: 0.1529 - iou_score: 0.9489 - f1-score: 0.9734 - val_loss: 0.3846 - val_iou_score: 0.6323 - val_f1-score: 0.7497\n",
            "Epoch 62/100\n",
            "150/150 [==============================] - 22s 150ms/step - loss: 0.1518 - iou_score: 0.9508 - f1-score: 0.9745 - val_loss: 0.3791 - val_iou_score: 0.6387 - val_f1-score: 0.7550\n",
            "Epoch 63/100\n",
            "150/150 [==============================] - 22s 150ms/step - loss: 0.1512 - iou_score: 0.9519 - f1-score: 0.9750 - val_loss: 0.3848 - val_iou_score: 0.6320 - val_f1-score: 0.7497\n",
            "Epoch 64/100\n",
            "150/150 [==============================] - 22s 150ms/step - loss: 0.1520 - iou_score: 0.9504 - f1-score: 0.9742 - val_loss: 0.3811 - val_iou_score: 0.6371 - val_f1-score: 0.7532\n",
            "Epoch 65/100\n",
            "150/150 [==============================] - 22s 150ms/step - loss: 0.1526 - iou_score: 0.9494 - f1-score: 0.9736 - val_loss: 0.3811 - val_iou_score: 0.6374 - val_f1-score: 0.7534\n",
            "Epoch 66/100\n",
            "150/150 [==============================] - 22s 150ms/step - loss: 0.1509 - iou_score: 0.9523 - f1-score: 0.9753 - val_loss: 0.3891 - val_iou_score: 0.6256 - val_f1-score: 0.7453\n",
            "Epoch 67/100\n",
            "150/150 [==============================] - 22s 150ms/step - loss: 0.1513 - iou_score: 0.9516 - f1-score: 0.9748 - val_loss: 0.3841 - val_iou_score: 0.6332 - val_f1-score: 0.7503\n",
            "Epoch 68/100\n",
            "150/150 [==============================] - 22s 150ms/step - loss: 0.1516 - iou_score: 0.9511 - f1-score: 0.9746 - val_loss: 0.3888 - val_iou_score: 0.6275 - val_f1-score: 0.7458\n",
            "Epoch 69/100\n",
            "150/150 [==============================] - 22s 150ms/step - loss: 0.1499 - iou_score: 0.9541 - f1-score: 0.9762 - val_loss: 0.3879 - val_iou_score: 0.6291 - val_f1-score: 0.7467\n",
            "Epoch 70/100\n",
            "150/150 [==============================] - 22s 150ms/step - loss: 0.1509 - iou_score: 0.9524 - f1-score: 0.9753 - val_loss: 0.3881 - val_iou_score: 0.6277 - val_f1-score: 0.7465\n",
            "Epoch 71/100\n",
            "150/150 [==============================] - 22s 150ms/step - loss: 0.1503 - iou_score: 0.9535 - f1-score: 0.9759 - val_loss: 0.3786 - val_iou_score: 0.6400 - val_f1-score: 0.7557\n",
            "Epoch 72/100\n",
            "150/150 [==============================] - 22s 150ms/step - loss: 0.1489 - iou_score: 0.9560 - f1-score: 0.9772 - val_loss: 0.3837 - val_iou_score: 0.6345 - val_f1-score: 0.7508\n",
            "Epoch 73/100\n",
            "150/150 [==============================] - 22s 150ms/step - loss: 0.1491 - iou_score: 0.9556 - f1-score: 0.9770 - val_loss: 0.3840 - val_iou_score: 0.6343 - val_f1-score: 0.7505\n",
            "Epoch 74/100\n",
            "150/150 [==============================] - 22s 150ms/step - loss: 0.1486 - iou_score: 0.9565 - f1-score: 0.9775 - val_loss: 0.3800 - val_iou_score: 0.6387 - val_f1-score: 0.7546\n",
            "Epoch 75/100\n",
            "150/150 [==============================] - 22s 150ms/step - loss: 0.1485 - iou_score: 0.9567 - f1-score: 0.9776 - val_loss: 0.3853 - val_iou_score: 0.6325 - val_f1-score: 0.7492\n",
            "Epoch 76/100\n",
            "150/150 [==============================] - 22s 149ms/step - loss: 0.1479 - iou_score: 0.9576 - f1-score: 0.9781 - val_loss: 0.3879 - val_iou_score: 0.6288 - val_f1-score: 0.7468\n",
            "Epoch 77/100\n",
            "150/150 [==============================] - 22s 150ms/step - loss: 0.1480 - iou_score: 0.9575 - f1-score: 0.9780 - val_loss: 0.3830 - val_iou_score: 0.6341 - val_f1-score: 0.7515\n",
            "Epoch 78/100\n",
            "150/150 [==============================] - 22s 149ms/step - loss: 0.1479 - iou_score: 0.9576 - f1-score: 0.9781 - val_loss: 0.3833 - val_iou_score: 0.6348 - val_f1-score: 0.7514\n",
            "Epoch 79/100\n",
            "150/150 [==============================] - 23s 150ms/step - loss: 0.1473 - iou_score: 0.9588 - f1-score: 0.9787 - val_loss: 0.3821 - val_iou_score: 0.6361 - val_f1-score: 0.7524\n",
            "Epoch 80/100\n",
            "150/150 [==============================] - 23s 150ms/step - loss: 0.1477 - iou_score: 0.9579 - f1-score: 0.9783 - val_loss: 0.3865 - val_iou_score: 0.6311 - val_f1-score: 0.7482\n",
            "Epoch 81/100\n",
            "150/150 [==============================] - 23s 150ms/step - loss: 0.1477 - iou_score: 0.9581 - f1-score: 0.9784 - val_loss: 0.3823 - val_iou_score: 0.6361 - val_f1-score: 0.7523\n",
            "Epoch 82/100\n",
            "150/150 [==============================] - 22s 150ms/step - loss: 0.1470 - iou_score: 0.9594 - f1-score: 0.9790 - val_loss: 0.3830 - val_iou_score: 0.6362 - val_f1-score: 0.7517\n",
            "Epoch 83/100\n",
            "150/150 [==============================] - 22s 150ms/step - loss: 0.1471 - iou_score: 0.9591 - f1-score: 0.9789 - val_loss: 0.3773 - val_iou_score: 0.6414 - val_f1-score: 0.7573\n",
            "Epoch 84/100\n",
            "150/150 [==============================] - 22s 150ms/step - loss: 0.1465 - iou_score: 0.9602 - f1-score: 0.9795 - val_loss: 0.3839 - val_iou_score: 0.6341 - val_f1-score: 0.7507\n",
            "Epoch 85/100\n",
            "150/150 [==============================] - 22s 150ms/step - loss: 0.1461 - iou_score: 0.9609 - f1-score: 0.9799 - val_loss: 0.3782 - val_iou_score: 0.6417 - val_f1-score: 0.7565\n",
            "Epoch 86/100\n",
            "150/150 [==============================] - 22s 150ms/step - loss: 0.1458 - iou_score: 0.9616 - f1-score: 0.9802 - val_loss: 0.3852 - val_iou_score: 0.6336 - val_f1-score: 0.7495\n",
            "Epoch 87/100\n",
            "150/150 [==============================] - 22s 150ms/step - loss: 0.1455 - iou_score: 0.9621 - f1-score: 0.9805 - val_loss: 0.3792 - val_iou_score: 0.6408 - val_f1-score: 0.7554\n",
            "Epoch 88/100\n",
            "150/150 [==============================] - 22s 150ms/step - loss: 0.1460 - iou_score: 0.9612 - f1-score: 0.9800 - val_loss: 0.3805 - val_iou_score: 0.6379 - val_f1-score: 0.7541\n",
            "Epoch 89/100\n",
            "150/150 [==============================] - 22s 150ms/step - loss: 0.1457 - iou_score: 0.9618 - f1-score: 0.9803 - val_loss: 0.3820 - val_iou_score: 0.6360 - val_f1-score: 0.7526\n",
            "Epoch 90/100\n",
            "150/150 [==============================] - 22s 150ms/step - loss: 0.1452 - iou_score: 0.9626 - f1-score: 0.9807 - val_loss: 0.3800 - val_iou_score: 0.6390 - val_f1-score: 0.7547\n",
            "Epoch 91/100\n",
            "150/150 [==============================] - 22s 149ms/step - loss: 0.1452 - iou_score: 0.9625 - f1-score: 0.9807 - val_loss: 0.3839 - val_iou_score: 0.6340 - val_f1-score: 0.7510\n",
            "Epoch 92/100\n",
            "150/150 [==============================] - 22s 149ms/step - loss: 0.1453 - iou_score: 0.9624 - f1-score: 0.9807 - val_loss: 0.3819 - val_iou_score: 0.6361 - val_f1-score: 0.7528\n",
            "Epoch 93/100\n",
            "150/150 [==============================] - 22s 149ms/step - loss: 0.1446 - iou_score: 0.9637 - f1-score: 0.9813 - val_loss: 0.3847 - val_iou_score: 0.6331 - val_f1-score: 0.7502\n",
            "Epoch 94/100\n",
            "150/150 [==============================] - 22s 150ms/step - loss: 0.1447 - iou_score: 0.9635 - f1-score: 0.9812 - val_loss: 0.3812 - val_iou_score: 0.6373 - val_f1-score: 0.7537\n",
            "Epoch 95/100\n",
            "150/150 [==============================] - 22s 150ms/step - loss: 0.1446 - iou_score: 0.9636 - f1-score: 0.9813 - val_loss: 0.3849 - val_iou_score: 0.6338 - val_f1-score: 0.7502\n",
            "Epoch 96/100\n",
            "150/150 [==============================] - 22s 149ms/step - loss: 0.1441 - iou_score: 0.9646 - f1-score: 0.9818 - val_loss: 0.3796 - val_iou_score: 0.6395 - val_f1-score: 0.7552\n",
            "Epoch 97/100\n",
            "150/150 [==============================] - 22s 149ms/step - loss: 0.1442 - iou_score: 0.9645 - f1-score: 0.9817 - val_loss: 0.3859 - val_iou_score: 0.6320 - val_f1-score: 0.7490\n",
            "Epoch 98/100\n",
            "150/150 [==============================] - 22s 150ms/step - loss: 0.1442 - iou_score: 0.9643 - f1-score: 0.9817 - val_loss: 0.3823 - val_iou_score: 0.6360 - val_f1-score: 0.7525\n",
            "Epoch 99/100\n",
            "150/150 [==============================] - 22s 149ms/step - loss: 0.1439 - iou_score: 0.9649 - f1-score: 0.9820 - val_loss: 0.3799 - val_iou_score: 0.6388 - val_f1-score: 0.7549\n",
            "Epoch 100/100\n",
            "150/150 [==============================] - 22s 149ms/step - loss: 0.1434 - iou_score: 0.9658 - f1-score: 0.9824 - val_loss: 0.3796 - val_iou_score: 0.6398 - val_f1-score: 0.7554\n"
          ],
          "name": "stdout"
        }
      ]
    },
    {
      "cell_type": "code",
      "metadata": {
        "id": "24qMNsFKMg3u"
      },
      "source": [
        ""
      ],
      "execution_count": null,
      "outputs": []
    },
    {
      "cell_type": "code",
      "metadata": {
        "id": "mOqKU0689aDZ",
        "outputId": "55e7a335-f334-4b21-c3b3-bdb010b4f21a",
        "colab": {
          "base_uri": "https://localhost:8080/",
          "height": 350
        }
      },
      "source": [
        "# Plot training & validation iou_score values\n",
        "plt.figure(figsize=(30, 5))\n",
        "plt.subplot(131)\n",
        "plt.plot(history.history['iou_score'])\n",
        "plt.plot(history.history['val_iou_score'])\n",
        "plt.title('Model iou_score')\n",
        "plt.ylabel('iou_score')\n",
        "plt.xlabel('Epoch')\n",
        "plt.legend(['Train', 'Val'], loc='upper left')\n",
        "\n",
        "# Plot training & validation iou_score values\n",
        "plt.subplot(132)\n",
        "plt.plot(history.history[\"f1-score\"])\n",
        "plt.plot(history.history['val_f1-score'])\n",
        "plt.title('Model f1_score')\n",
        "plt.ylabel('f1_score')\n",
        "plt.xlabel('Epoch')\n",
        "plt.legend(['Train', 'Val'], loc='upper left')\n",
        "\n",
        "# Plot training & validation loss values\n",
        "plt.subplot(133)\n",
        "plt.plot(history.history['loss'])\n",
        "plt.plot(history.history['val_loss'])\n",
        "plt.title('Model loss')\n",
        "plt.ylabel('Loss')\n",
        "plt.xlabel('Epoch')\n",
        "plt.legend(['Train', 'Val'], loc='upper left')\n",
        "#plt.show()\n",
        "name = path + \"risultati100epochs/loss_\" + str(ep) + \"epochs.png\"\n",
        "plt.savefig(name)\n",
        "\n",
        "name =  str(ep) + \"epochs.csv\"\n",
        "np.savetxt(path + \"risultati100epochs/loss_\" + name, history.history['loss'])\n",
        "np.savetxt(path + \"risultati100epochs/val_loss_\" + name, history.history['val_loss'])\n",
        "np.savetxt(path + \"risultati100epochs/f1_\" + name, history.history['f1-score'])\n",
        "np.savetxt(path + \"risultati100epochs/val_f1_\" + name, history.history['val_f1-score'])\n",
        "np.savetxt(path + \"risultati100epochs/iou_\" + name, history.history['iou_score'])\n",
        "np.savetxt(path + \"risultati100epochs/val_iou_\" + name, history.history['val_iou_score'])\n"
      ],
      "execution_count": null,
      "outputs": [
        {
          "output_type": "display_data",
          "data": {
            "image/png": "[encoded data removed]",
            "text/plain": [
              "<Figure size 2160x360 with 3 Axes>"
            ]
          },
          "metadata": {
            "tags": [],
            "needs_background": "light"
          }
        }
      ]
    },
    {
      "cell_type": "code",
      "metadata": {
        "id": "P1TXUxFitUG8"
      },
      "source": [
        ""
      ],
      "execution_count": null,
      "outputs": []
    },
    {
      "cell_type": "code",
      "metadata": {
        "id": "egrw9ANVtUHD"
      },
      "source": [
        ""
      ],
      "execution_count": null,
      "outputs": []
    }
  ]
}